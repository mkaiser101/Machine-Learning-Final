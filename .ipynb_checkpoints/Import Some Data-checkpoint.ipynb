{
 "cells": [
  {
   "cell_type": "markdown",
   "metadata": {
    "deletable": true,
    "editable": true
   },
   "source": [
    "# Import Data"
   ]
  },
  {
   "cell_type": "code",
   "execution_count": null,
   "metadata": {
    "collapsed": true,
    "deletable": true,
    "editable": true
   },
   "outputs": [],
   "source": [
    "Spotify Data imports below, used their online console to generate this data"
   ]
  },
  {
   "cell_type": "code",
   "execution_count": 2,
   "metadata": {
    "collapsed": false,
    "deletable": true,
    "editable": true
   },
   "outputs": [],
   "source": [
    "import pandas as pd\n",
    "import numpy as np\n",
    "\n",
    "#Global Vars\n",
    "spot_dir = 'JSON/SPOTIFY'\n",
    "twit_dir = 'JSON/TWITTER'"
   ]
  },
  {
   "cell_type": "code",
   "execution_count": 116,
   "metadata": {
    "collapsed": false,
    "deletable": true,
    "editable": true
   },
   "outputs": [
    {
     "data": {
      "text/html": [
       "<div>\n",
       "<style>\n",
       "    .dataframe thead tr:only-child th {\n",
       "        text-align: right;\n",
       "    }\n",
       "\n",
       "    .dataframe thead th {\n",
       "        text-align: left;\n",
       "    }\n",
       "\n",
       "    .dataframe tbody tr th {\n",
       "        vertical-align: top;\n",
       "    }\n",
       "</style>\n",
       "<table border=\"1\" class=\"dataframe\">\n",
       "  <thead>\n",
       "    <tr style=\"text-align: right;\">\n",
       "      <th></th>\n",
       "      <th>Arist</th>\n",
       "      <th>Track_ID</th>\n",
       "      <th>acousticness</th>\n",
       "      <th>analysis_url</th>\n",
       "      <th>danceability</th>\n",
       "      <th>duration_ms</th>\n",
       "      <th>energy</th>\n",
       "      <th>id</th>\n",
       "      <th>instrumentalness</th>\n",
       "      <th>key</th>\n",
       "      <th>liveness</th>\n",
       "      <th>loudness</th>\n",
       "      <th>mode</th>\n",
       "      <th>speechiness</th>\n",
       "      <th>tempo</th>\n",
       "      <th>time_signature</th>\n",
       "      <th>track_href</th>\n",
       "      <th>type</th>\n",
       "      <th>uri</th>\n",
       "      <th>valence</th>\n",
       "    </tr>\n",
       "  </thead>\n",
       "  <tbody>\n",
       "    <tr>\n",
       "      <th>0</th>\n",
       "      <td>Kendrick Lamar</td>\n",
       "      <td>Element</td>\n",
       "      <td>0.22</td>\n",
       "      <td>https://api.spotify.com/v1/audio-analysis/1EaK...</td>\n",
       "      <td>0.734</td>\n",
       "      <td>208733</td>\n",
       "      <td>0.687</td>\n",
       "      <td>1EaKU4dMbesXXd3BrLCtYG</td>\n",
       "      <td>0</td>\n",
       "      <td>4</td>\n",
       "      <td>0.215</td>\n",
       "      <td>-4.728</td>\n",
       "      <td>0</td>\n",
       "      <td>0.476</td>\n",
       "      <td>189.791</td>\n",
       "      <td>4</td>\n",
       "      <td>https://api.spotify.com/v1/tracks/1EaKU4dMbesX...</td>\n",
       "      <td>audio_features</td>\n",
       "      <td>spotify:track:1EaKU4dMbesXXd3BrLCtYG</td>\n",
       "      <td>0.476</td>\n",
       "    </tr>\n",
       "  </tbody>\n",
       "</table>\n",
       "</div>"
      ],
      "text/plain": [
       "            Arist Track_ID  acousticness  \\\n",
       "0  Kendrick Lamar  Element          0.22   \n",
       "\n",
       "                                        analysis_url  danceability  \\\n",
       "0  https://api.spotify.com/v1/audio-analysis/1EaK...         0.734   \n",
       "\n",
       "   duration_ms  energy                      id  instrumentalness  key  \\\n",
       "0       208733   0.687  1EaKU4dMbesXXd3BrLCtYG                 0    4   \n",
       "\n",
       "   liveness  loudness  mode  speechiness    tempo  time_signature  \\\n",
       "0     0.215    -4.728     0        0.476  189.791               4   \n",
       "\n",
       "                                          track_href            type  \\\n",
       "0  https://api.spotify.com/v1/tracks/1EaKU4dMbesX...  audio_features   \n",
       "\n",
       "                                    uri  valence  \n",
       "0  spotify:track:1EaKU4dMbesXXd3BrLCtYG    0.476  "
      ]
     },
     "execution_count": 116,
     "metadata": {},
     "output_type": "execute_result"
    }
   ],
   "source": [
    "file_name = \"element.json\"\n",
    "df = pd.read_json(\"%s/%s\" % (spot_dir,file_name))\n",
    "df.head()\n",
    "\n",
    "# Tweet: https://twitter.com/21savage/status/929125440673009669\n",
    "# 23K RTs, 99k Likes. 2.277 Billion Interaction Score "
   ]
  },
  {
   "cell_type": "code",
   "execution_count": 109,
   "metadata": {
    "collapsed": false,
    "deletable": true,
    "editable": true
   },
   "outputs": [
    {
     "name": "stdout",
     "output_type": "stream",
     "text": [
      "[[  2.59000000e-04   9.04000000e-01   1.77000000e+05   6.11000000e-01\n",
      "    1.00000000e+00   9.76000000e-02  -6.84200000e+00   8.88000000e-02\n",
      "    1.50020000e+02   4.00000000e-01]]\n"
     ]
    }
   ],
   "source": [
    "def json_to_vector(json_file):\n",
    "    df = pd.read_json(json_file)\n",
    "    #remove columns we dont need\n",
    "    del df['analysis_url']\n",
    "    del df['instrumentalness']\n",
    "    del df['time_signature']\n",
    "    del df['mode']\n",
    "    del df['track_href']\n",
    "    del df['uri']\n",
    "    del df['type']\n",
    "    del df['id']\n",
    "    #remove name info\n",
    "    del df['Artist']\n",
    "    del df['Track_ID']\n",
    "    return df.values\n",
    "\n",
    "print(json_to_vector(\"JSON/SPOTIFY/humble.json\"))\n",
    "#print(json_to_vector(\"JSON/SPOTIFY/bankaccount.json\"))"
   ]
  },
  {
   "cell_type": "code",
   "execution_count": 118,
   "metadata": {
    "collapsed": false,
    "deletable": true,
    "editable": true
   },
   "outputs": [
    {
     "name": "stdout",
     "output_type": "stream",
     "text": [
      "JSON/SPOTIFY/dna.json\n",
      "JSON/SPOTIFY/element.json\n",
      "JSON/SPOTIFY/humble.json\n",
      "JSON/SPOTIFY/love.json\n",
      "JSON/SPOTIFY/loyalty.json\n",
      "[array([[  4.70000000e-03,   6.37000000e-01,   1.85947000e+05,\n",
      "          5.14000000e-01,   1.00000000e+00,   9.40000000e-02,\n",
      "         -6.76300000e+00,   3.65000000e-01,   1.39931000e+02,\n",
      "          4.02000000e-01]]), array([[  2.20000000e-01,   7.34000000e-01,   2.08733000e+05,\n",
      "          6.87000000e-01,   4.00000000e+00,   2.15000000e-01,\n",
      "         -4.72800000e+00,   4.76000000e-01,   1.89791000e+02,\n",
      "          4.76000000e-01]]), array([[  2.59000000e-04,   9.04000000e-01,   1.77000000e+05,\n",
      "          6.11000000e-01,   1.00000000e+00,   9.76000000e-02,\n",
      "         -6.84200000e+00,   8.88000000e-02,   1.50020000e+02,\n",
      "          4.00000000e-01]]), array([[  2.90000000e-01,   7.98000000e-01,   2.13400000e+05,\n",
      "          5.82000000e-01,   1.00000000e+01,   1.53000000e-01,\n",
      "         -7.38000000e+00,   1.03000000e-01,   1.26075000e+02,\n",
      "          7.66000000e-01]]), array([[  2.24000000e-02,   6.81000000e-01,   2.27360000e+05,\n",
      "          5.41000000e-01,   9.00000000e+00,   1.67000000e-01,\n",
      "         -8.92600000e+00,   5.50000000e-02,   1.10803000e+02,\n",
      "          4.13000000e-01]])]\n"
     ]
    }
   ],
   "source": [
    "#Creating Features\n",
    "import os\n",
    "\n",
    "X_train = []\n",
    "Y_train = [2277000000,147000000]\n",
    "\n",
    "for filename in os.listdir(spot_dir):\n",
    "    file_str = (\"%s/%s\" % (spot_dir, filename))\n",
    "    X_train.append(json_to_vector(file_str))\n",
    "    \n",
    "print(X_train)"
   ]
  },
  {
   "cell_type": "code",
   "execution_count": 59,
   "metadata": {
    "collapsed": false,
    "deletable": true,
    "editable": true
   },
   "outputs": [],
   "source": [
    "#Classifier\n",
    "from sklearn.linear_model import SGDClassifier\n",
    "from sklearn.metrics import accuracy_score, precision_score\n",
    "\n",
    "classifier = SGDClassifier(loss='log', max_iter=1000, tol=1.0e-12, random_state=123)"
   ]
  },
  {
   "cell_type": "code",
   "execution_count": null,
   "metadata": {
    "collapsed": true,
    "deletable": true,
    "editable": true
   },
   "outputs": [],
   "source": []
  }
 ],
 "metadata": {
  "kernelspec": {
   "display_name": "Python 3",
   "language": "python",
   "name": "python3"
  },
  "language_info": {
   "codemirror_mode": {
    "name": "ipython",
    "version": 3
   },
   "file_extension": ".py",
   "mimetype": "text/x-python",
   "name": "python",
   "nbconvert_exporter": "python",
   "pygments_lexer": "ipython3",
   "version": "3.6.1"
  }
 },
 "nbformat": 4,
 "nbformat_minor": 2
}
