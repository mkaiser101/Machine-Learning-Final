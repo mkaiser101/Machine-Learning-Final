{
 "cells": [
  {
   "cell_type": "markdown",
   "metadata": {
    "deletable": true,
    "editable": true
   },
   "source": [
    "# Import Data"
   ]
  },
  {
   "cell_type": "code",
   "execution_count": null,
   "metadata": {
    "collapsed": true,
    "deletable": true,
    "editable": true
   },
   "outputs": [],
   "source": [
    "Spotify Data imports below, used their online console to generate this data"
   ]
  },
  {
   "cell_type": "code",
   "execution_count": 2,
   "metadata": {
    "collapsed": false,
    "deletable": true,
    "editable": true
   },
   "outputs": [],
   "source": [
    "import pandas as pd\n",
    "import numpy as np"
   ]
  },
  {
   "cell_type": "code",
   "execution_count": 3,
   "metadata": {
    "collapsed": false,
    "deletable": true,
    "editable": true
   },
   "outputs": [
    {
     "data": {
      "text/html": [
       "<div>\n",
       "<style>\n",
       "    .dataframe thead tr:only-child th {\n",
       "        text-align: right;\n",
       "    }\n",
       "\n",
       "    .dataframe thead th {\n",
       "        text-align: left;\n",
       "    }\n",
       "\n",
       "    .dataframe tbody tr th {\n",
       "        vertical-align: top;\n",
       "    }\n",
       "</style>\n",
       "<table border=\"1\" class=\"dataframe\">\n",
       "  <thead>\n",
       "    <tr style=\"text-align: right;\">\n",
       "      <th></th>\n",
       "      <th>Artist</th>\n",
       "      <th>Song</th>\n",
       "      <th>acousticness</th>\n",
       "      <th>analysis_url</th>\n",
       "      <th>danceability</th>\n",
       "      <th>duration_ms</th>\n",
       "      <th>energy</th>\n",
       "      <th>id</th>\n",
       "      <th>instrumentalness</th>\n",
       "      <th>key</th>\n",
       "      <th>liveness</th>\n",
       "      <th>loudness</th>\n",
       "      <th>mode</th>\n",
       "      <th>speechiness</th>\n",
       "      <th>tempo</th>\n",
       "      <th>time_signature</th>\n",
       "      <th>track_href</th>\n",
       "      <th>type</th>\n",
       "      <th>uri</th>\n",
       "      <th>valence</th>\n",
       "    </tr>\n",
       "  </thead>\n",
       "  <tbody>\n",
       "    <tr>\n",
       "      <th>0</th>\n",
       "      <td>21 Savage</td>\n",
       "      <td>Bank Account</td>\n",
       "      <td>0.0151</td>\n",
       "      <td>https://api.spotify.com/v1/audio-analysis/5eqK...</td>\n",
       "      <td>0.884</td>\n",
       "      <td>220307</td>\n",
       "      <td>0.346</td>\n",
       "      <td>5eqK0tbzUPo2SoeZsov04s</td>\n",
       "      <td>0.000007</td>\n",
       "      <td>8</td>\n",
       "      <td>0.0871</td>\n",
       "      <td>-8.228</td>\n",
       "      <td>0</td>\n",
       "      <td>0.351</td>\n",
       "      <td>75.016</td>\n",
       "      <td>4</td>\n",
       "      <td>https://api.spotify.com/v1/tracks/5eqK0tbzUPo2...</td>\n",
       "      <td>audio_features</td>\n",
       "      <td>spotify:track:5eqK0tbzUPo2SoeZsov04s</td>\n",
       "      <td>0.376</td>\n",
       "    </tr>\n",
       "  </tbody>\n",
       "</table>\n",
       "</div>"
      ],
      "text/plain": [
       "      Artist          Song  acousticness  \\\n",
       "0  21 Savage  Bank Account        0.0151   \n",
       "\n",
       "                                        analysis_url  danceability  \\\n",
       "0  https://api.spotify.com/v1/audio-analysis/5eqK...         0.884   \n",
       "\n",
       "   duration_ms  energy                      id  instrumentalness  key  \\\n",
       "0       220307   0.346  5eqK0tbzUPo2SoeZsov04s          0.000007    8   \n",
       "\n",
       "   liveness  loudness  mode  speechiness   tempo  time_signature  \\\n",
       "0    0.0871    -8.228     0        0.351  75.016               4   \n",
       "\n",
       "                                          track_href            type  \\\n",
       "0  https://api.spotify.com/v1/tracks/5eqK0tbzUPo2...  audio_features   \n",
       "\n",
       "                                    uri  valence  \n",
       "0  spotify:track:5eqK0tbzUPo2SoeZsov04s    0.376  "
      ]
     },
     "execution_count": 3,
     "metadata": {},
     "output_type": "execute_result"
    }
   ],
   "source": [
    "df = pd.read_json(\"bankaccount.json\")\n",
    "df.head()\n",
    "\n",
    "# Tweet: https://twitter.com/21savage/status/929125440673009669\n",
    "# 23K RTs, 99k Likes. 2.277 Billion Interaction Score "
   ]
  },
  {
   "cell_type": "code",
   "execution_count": 15,
   "metadata": {
    "collapsed": false,
    "deletable": true,
    "editable": true
   },
   "outputs": [
    {
     "data": {
      "text/html": [
       "<div>\n",
       "<style>\n",
       "    .dataframe thead tr:only-child th {\n",
       "        text-align: right;\n",
       "    }\n",
       "\n",
       "    .dataframe thead th {\n",
       "        text-align: left;\n",
       "    }\n",
       "\n",
       "    .dataframe tbody tr th {\n",
       "        vertical-align: top;\n",
       "    }\n",
       "</style>\n",
       "<table border=\"1\" class=\"dataframe\">\n",
       "  <thead>\n",
       "    <tr style=\"text-align: right;\">\n",
       "      <th></th>\n",
       "      <th>Artist</th>\n",
       "      <th>Song</th>\n",
       "      <th>acousticness</th>\n",
       "      <th>analysis_url</th>\n",
       "      <th>danceability</th>\n",
       "      <th>duration_ms</th>\n",
       "      <th>energy</th>\n",
       "      <th>id</th>\n",
       "      <th>instrumentalness</th>\n",
       "      <th>key</th>\n",
       "      <th>liveness</th>\n",
       "      <th>loudness</th>\n",
       "      <th>mode</th>\n",
       "      <th>speechiness</th>\n",
       "      <th>tempo</th>\n",
       "      <th>time_signature</th>\n",
       "      <th>track_href</th>\n",
       "      <th>type</th>\n",
       "      <th>uri</th>\n",
       "      <th>valence</th>\n",
       "    </tr>\n",
       "  </thead>\n",
       "  <tbody>\n",
       "    <tr>\n",
       "      <th>0</th>\n",
       "      <td>Kendrick Lamar</td>\n",
       "      <td>Humble</td>\n",
       "      <td>0.000259</td>\n",
       "      <td>https://api.spotify.com/v1/audio-analysis/7KXj...</td>\n",
       "      <td>0.904</td>\n",
       "      <td>177000</td>\n",
       "      <td>0.611</td>\n",
       "      <td>7KXjTSCq5nL1LoYtL7XAwS</td>\n",
       "      <td>0.00002</td>\n",
       "      <td>1</td>\n",
       "      <td>0.0976</td>\n",
       "      <td>-6.842</td>\n",
       "      <td>0</td>\n",
       "      <td>0.0888</td>\n",
       "      <td>150.02</td>\n",
       "      <td>4</td>\n",
       "      <td>https://api.spotify.com/v1/tracks/7KXjTSCq5nL1...</td>\n",
       "      <td>audio_features</td>\n",
       "      <td>spotify:track:7KXjTSCq5nL1LoYtL7XAwS</td>\n",
       "      <td>0.4</td>\n",
       "    </tr>\n",
       "  </tbody>\n",
       "</table>\n",
       "</div>"
      ],
      "text/plain": [
       "           Artist    Song  acousticness  \\\n",
       "0  Kendrick Lamar  Humble      0.000259   \n",
       "\n",
       "                                        analysis_url  danceability  \\\n",
       "0  https://api.spotify.com/v1/audio-analysis/7KXj...         0.904   \n",
       "\n",
       "   duration_ms  energy                      id  instrumentalness  key  \\\n",
       "0       177000   0.611  7KXjTSCq5nL1LoYtL7XAwS           0.00002    1   \n",
       "\n",
       "   liveness  loudness  mode  speechiness   tempo  time_signature  \\\n",
       "0    0.0976    -6.842     0       0.0888  150.02               4   \n",
       "\n",
       "                                          track_href            type  \\\n",
       "0  https://api.spotify.com/v1/tracks/7KXjTSCq5nL1...  audio_features   \n",
       "\n",
       "                                    uri  valence  \n",
       "0  spotify:track:7KXjTSCq5nL1LoYtL7XAwS      0.4  "
      ]
     },
     "execution_count": 15,
     "metadata": {},
     "output_type": "execute_result"
    }
   ],
   "source": [
    "df = pd.read_json(\"humble.json\")\n",
    "df.head()\n",
    "\n",
    "# Tweet: https://twitter.com/kendricklamar/status/850107761610309632\n",
    "# 7k RTs, 21k Likes. 147 Million Interaction Score"
   ]
  },
  {
   "cell_type": "code",
   "execution_count": 14,
   "metadata": {
    "collapsed": false,
    "deletable": true,
    "editable": true
   },
   "outputs": [
    {
     "name": "stdout",
     "output_type": "stream",
     "text": [
      "<bound method NDFrame.as_matrix of            Artist    Song  acousticness  danceability  duration_ms  energy  \\\n",
      "0  Kendrick Lamar  Humble      0.000259         0.904       177000   0.611   \n",
      "\n",
      "   key  liveness  loudness  speechiness   tempo  valence  \n",
      "0    1    0.0976    -6.842       0.0888  150.02      0.4  >\n"
     ]
    }
   ],
   "source": []
  },
  {
   "cell_type": "code",
   "execution_count": 27,
   "metadata": {
    "collapsed": false
   },
   "outputs": [
    {
     "name": "stdout",
     "output_type": "stream",
     "text": [
      "[['Kendrick Lamar' 'Humble' 0.000259 0.904 177000 0.611 1 0.0976 -6.842\n",
      "  0.0888 150.02 0.4]]\n",
      "[['21 Savage' 'Bank Account' 0.0151 0.884 220307 0.34600000000000003 8\n",
      "  0.08710000000000001 -8.228 0.35100000000000003 75.016 0.376]]\n"
     ]
    }
   ],
   "source": [
    "def json_to_vector(json_file):\n",
    "    df = pd.read_json(json_file)\n",
    "    #remove columns we dont need\n",
    "    del df['analysis_url']\n",
    "    del df['instrumentalness']\n",
    "    del df['time_signature']\n",
    "    del df['mode']\n",
    "    del df['track_href']\n",
    "    del df['uri']\n",
    "    del df['type']\n",
    "    del df['id']\n",
    "    #remove name info\n",
    "    #del df['Artist']\n",
    "    #del df['Song']\n",
    "    return df.values\n",
    "\n",
    "print(json_to_vector(\"JSON/humble.json\"))\n",
    "print(json_to_vector(\"JSON/bankaccount.json\"))"
   ]
  },
  {
   "cell_type": "code",
   "execution_count": 38,
   "metadata": {
    "collapsed": false
   },
   "outputs": [
    {
     "name": "stdout",
     "output_type": "stream",
     "text": [
      "[array([['21 Savage', 'Bank Account', 0.0151, 0.884, 220307,\n",
      "        0.34600000000000003, 8, 0.08710000000000001, -8.228,\n",
      "        0.35100000000000003, 75.016, 0.376]], dtype=object), array([['Kendrick Lamar', 'Humble', 0.000259, 0.904, 177000, 0.611, 1,\n",
      "        0.0976, -6.842, 0.0888, 150.02, 0.4]], dtype=object)]\n"
     ]
    }
   ],
   "source": [
    "#Creating Features\n",
    "import os\n",
    "\n",
    "X_train = []\n",
    "Y_train = [2277000000,147000000]\n",
    "\n",
    "for filename in os.listdir('JSON'):\n",
    "    file_str = (\"JSON/%s\" % filename)\n",
    "    X_train.append(json_to_vector(file_str))\n",
    "\n",
    "print(X_train)"
   ]
  },
  {
   "cell_type": "code",
   "execution_count": null,
   "metadata": {
    "collapsed": true
   },
   "outputs": [],
   "source": []
  }
 ],
 "metadata": {
  "kernelspec": {
   "display_name": "Python 3",
   "language": "python",
   "name": "python3"
  },
  "language_info": {
   "codemirror_mode": {
    "name": "ipython",
    "version": 3
   },
   "file_extension": ".py",
   "mimetype": "text/x-python",
   "name": "python",
   "nbconvert_exporter": "python",
   "pygments_lexer": "ipython3",
   "version": "3.6.1"
  }
 },
 "nbformat": 4,
 "nbformat_minor": 2
}
