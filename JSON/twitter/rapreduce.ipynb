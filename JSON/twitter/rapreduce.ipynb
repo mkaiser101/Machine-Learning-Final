{
 "cells": [
  {
   "cell_type": "code",
   "execution_count": 1,
   "metadata": {
    "collapsed": true
   },
   "outputs": [],
   "source": [
    "import pandas as pd\n",
    "twoC1 = pd.read_json(\"2chainz/2chainz0.json\")\n",
    "twoC2 = pd.read_json(\"2chainz/2chainz1.json\")\n",
    "twoC3 = pd.read_json(\"2chainz/2chainz2.json\")\n",
    "twoC4 = pd.read_json(\"2chainz/2chainz3.json\")\n",
    "twoC5 = pd.read_json(\"2chainz/2chainz4.json\")\n",
    "twoC6 = pd.read_json(\"2chainz/2chainz5.json\")\n",
    "twoC7 = pd.read_json(\"2chainz/2chainz6.json\")\n",
    "twoC8 = pd.read_json(\"2chainz/2chainz7.json\")\n",
    "twoC9 = pd.read_json(\"2chainz/2chainz8.json\")\n",
    "twoC10 = pd.read_json(\"2chainz/2chainz9.json\")\n",
    "twoC = pd.concat([twoC1,twoC2,twoC3,twoC4,twoC5,twoC6,twoC7,twoC8,twoC9,twoC10])\n",
    "twoC = twoC[[\"retweet_count\",\"favorite_count\"]]\n",
    "twoC.head()\n",
    "filename = '2chainz.csv'\n",
    "twoC.to_csv(filename, encoding='utf-8')"
   ]
  },
  {
   "cell_type": "code",
   "execution_count": 2,
   "metadata": {
    "collapsed": true
   },
   "outputs": [],
   "source": [
    "import pandas as pd\n",
    "ActB1 = pd.read_json(\"actionbronson/actionbronson0.json\")\n",
    "ActB2 = pd.read_json(\"actionbronson/actionbronson1.json\")\n",
    "ActB3 = pd.read_json(\"actionbronson/actionbronson2.json\")\n",
    "ActB4 = pd.read_json(\"actionbronson/actionbronson3.json\")\n",
    "ActB5 = pd.read_json(\"actionbronson/actionbronson4.json\")\n",
    "ActB6 = pd.read_json(\"actionbronson/actionbronson5.json\")\n",
    "ActB7 = pd.read_json(\"actionbronson/actionbronson6.json\")\n",
    "ActB8 = pd.read_json(\"actionbronson/actionbronson7.json\")\n",
    "ActB9 = pd.read_json(\"actionbronson/actionbronson8.json\")\n",
    "ActB10 = pd.read_json(\"actionbronson/actionbronson9.json\")\n",
    "ActB = pd.concat([ActB1,ActB2,ActB3,ActB4,ActB5,ActB6,ActB7,ActB8,ActB9,ActB10])\n",
    "ActB = ActB[[\"retweet_count\",\"favorite_count\"]]\n",
    "ActB.head()\n",
    "ActB.to_csv('actionbronson.csv',  encoding='utf-8')"
   ]
  },
  {
   "cell_type": "code",
   "execution_count": 3,
   "metadata": {
    "collapsed": true
   },
   "outputs": [],
   "source": [
    "import pandas as pd\n",
    "APAAK1 = pd.read_json(\"andersonpaak/andersonpaak0.json\")\n",
    "APAAK2 = pd.read_json(\"andersonpaak/andersonpaak1.json\")\n",
    "APAAK3 = pd.read_json(\"andersonpaak/andersonpaak2.json\")\n",
    "APAAK4 = pd.read_json(\"andersonpaak/andersonpaak3.json\")\n",
    "APAAK5 = pd.read_json(\"andersonpaak/andersonpaak4.json\")\n",
    "APAAK6 = pd.read_json(\"andersonpaak/andersonpaak5.json\")\n",
    "APAAK7 = pd.read_json(\"andersonpaak/andersonpaak6.json\")\n",
    "APAAK8 = pd.read_json(\"andersonpaak/andersonpaak7.json\")\n",
    "APAAK9 = pd.read_json(\"andersonpaak/andersonpaak8.json\")\n",
    "APAAK10 = pd.read_json(\"andersonpaak/andersonpaak9.json\")\n",
    "APAAK = pd.concat([APAAK1,APAAK2,APAAK3,APAAK4,APAAK5,APAAK6,APAAK7,APAAK8,APAAK9,APAAK10])\n",
    "APAAK = APAAK[[\"retweet_count\",\"favorite_count\"]]\n",
    "APAAK.head()\n",
    "APAAK.to_csv('andersonpaak.csv', encoding='utf-8')"
   ]
  },
  {
   "cell_type": "code",
   "execution_count": 4,
   "metadata": {
    "collapsed": true
   },
   "outputs": [],
   "source": [
    "import pandas as pd\n",
    "asapR1 = pd.read_json(\"asvpxrocky/asvpxrocky0.json\")\n",
    "asapR2 = pd.read_json(\"asvpxrocky/asvpxrocky1.json\")\n",
    "asapR3 = pd.read_json(\"asvpxrocky/asvpxrocky2.json\")\n",
    "asapR4 = pd.read_json(\"asvpxrocky/asvpxrocky3.json\")\n",
    "asapR5 = pd.read_json(\"asvpxrocky/asvpxrocky4.json\")\n",
    "asapR6 = pd.read_json(\"asvpxrocky/asvpxrocky5.json\")\n",
    "asapR7 = pd.read_json(\"asvpxrocky/asvpxrocky6.json\")\n",
    "asapR8 = pd.read_json(\"asvpxrocky/asvpxrocky7.json\")\n",
    "asapR9 = pd.read_json(\"asvpxrocky/asvpxrocky8.json\")\n",
    "asapR10 = pd.read_json(\"asvpxrocky/asvpxrocky9.json\")\n",
    "asapR = pd.concat([asapR1,asapR2,asapR3,asapR4,asapR5,asapR6,asapR7,asapR8,asapR9,asapR10])\n",
    "asapR = asapR[[\"retweet_count\",\"favorite_count\"]]\n",
    "asapR.head()\n",
    "asapR.to_csv('asaprockey.csv', encoding='utf-8')"
   ]
  },
  {
   "cell_type": "code",
   "execution_count": 5,
   "metadata": {
    "collapsed": true
   },
   "outputs": [],
   "source": [
    "import pandas as pd\n",
    "bigSean1 = pd.read_json(\"bigsean/bigsean0.json\")\n",
    "bigSean2 = pd.read_json(\"bigsean/bigsean1.json\")\n",
    "bigSean3 = pd.read_json(\"bigsean/bigsean2.json\")\n",
    "bigSean4 = pd.read_json(\"bigsean/bigsean3.json\")\n",
    "bigSean5 = pd.read_json(\"bigsean/bigsean4.json\")\n",
    "bigSean6 = pd.read_json(\"bigsean/bigsean5.json\")\n",
    "bigSean7 = pd.read_json(\"bigsean/bigsean6.json\")\n",
    "bigSean8 = pd.read_json(\"bigsean/bigsean7.json\")\n",
    "bigSean9 = pd.read_json(\"bigsean/bigsean8.json\")\n",
    "bigSean10 = pd.read_json(\"bigsean/bigsean9.json\")\n",
    "bigSean = pd.concat([bigSean1,bigSean2,bigSean3,bigSean4,bigSean5,bigSean6,bigSean7,bigSean8,bigSean9,bigSean10])\n",
    "bigSean = bigSean[[\"retweet_count\",\"favorite_count\"]]\n",
    "bigSean.head()\n",
    "bigSean.to_csv('bigSean.csv', encoding='utf-8')"
   ]
  },
  {
   "cell_type": "code",
   "execution_count": 6,
   "metadata": {
    "collapsed": true
   },
   "outputs": [],
   "source": [
    "import pandas as pd\n",
    "Chance1 = pd.read_json(\"chancetherapper/chancetherapper0.json\")\n",
    "Chance2 = pd.read_json(\"chancetherapper/chancetherapper1.json\")\n",
    "Chance3 = pd.read_json(\"chancetherapper/chancetherapper2.json\")\n",
    "Chance4 = pd.read_json(\"chancetherapper/chancetherapper3.json\")\n",
    "Chance5 = pd.read_json(\"chancetherapper/chancetherapper4.json\")\n",
    "Chance6 = pd.read_json(\"chancetherapper/chancetherapper5.json\")\n",
    "Chance7 = pd.read_json(\"chancetherapper/chancetherapper6.json\")\n",
    "Chance8 = pd.read_json(\"chancetherapper/chancetherapper7.json\")\n",
    "Chance9 = pd.read_json(\"chancetherapper/chancetherapper8.json\")\n",
    "Chance10 = pd.read_json(\"chancetherapper/chancetherapper9.json\")\n",
    "Chance = pd.concat([Chance1,Chance2,Chance3,Chance4,Chance5,Chance6,Chance7,Chance8,Chance9,Chance10])\n",
    "Chance = Chance[[\"retweet_count\",\"favorite_count\"]]\n",
    "Chance.to_csv('chance.csv',  encoding='utf-8')"
   ]
  },
  {
   "cell_type": "code",
   "execution_count": 7,
   "metadata": {
    "collapsed": true
   },
   "outputs": [],
   "source": [
    "import pandas as pd\n",
    "drizzy1 = pd.read_json(\"drake/drake0.json\")\n",
    "drizzy2 = pd.read_json(\"drake/drake1.json\")\n",
    "drizzy3 = pd.read_json(\"drake/drake2.json\")\n",
    "drizzy4 = pd.read_json(\"drake/drake3.json\")\n",
    "drizzy5 = pd.read_json(\"drake/drake4.json\")\n",
    "drizzy6 = pd.read_json(\"drake/drake5.json\")\n",
    "drizzy7 = pd.read_json(\"drake/drake6.json\")\n",
    "drizzy8 = pd.read_json(\"drake/drake7.json\")\n",
    "drizzy9 = pd.read_json(\"drake/drake8.json\")\n",
    "drizzy10 = pd.read_json(\"drake/drake9.json\")\n",
    "drizzy = pd.concat([drizzy1,drizzy2,drizzy3,drizzy4,drizzy5,drizzy6,drizzy7,drizzy8,drizzy9,drizzy10])\n",
    "drizzy = drizzy[[\"retweet_count\",\"favorite_count\"]]\n",
    "drizzy.head()\n",
    "drizzy.to_csv('drake.csv', encoding='utf-8')"
   ]
  },
  {
   "cell_type": "code",
   "execution_count": 8,
   "metadata": {
    "collapsed": true
   },
   "outputs": [],
   "source": [
    "import pandas as pd\n",
    "elp1 = pd.read_json(\"therealelp/therealelp0.json\")\n",
    "elp2 = pd.read_json(\"therealelp/therealelp1.json\")\n",
    "elp3 = pd.read_json(\"therealelp/therealelp2.json\")\n",
    "elp4 = pd.read_json(\"therealelp/therealelp3.json\")\n",
    "elp5 = pd.read_json(\"therealelp/therealelp4.json\")\n",
    "elp6 = pd.read_json(\"therealelp/therealelp5.json\")\n",
    "elp7 = pd.read_json(\"therealelp/therealelp6.json\")\n",
    "elp8 = pd.read_json(\"therealelp/therealelp7.json\")\n",
    "elp9 = pd.read_json(\"therealelp/therealelp8.json\")\n",
    "elp10 = pd.read_json(\"therealelp/therealelp9.json\")\n",
    "elp = pd.concat([elp1,elp2,elp3,elp4,elp5,elp6,elp7,elp8,elp9,elp10])\n",
    "elp = elp[[\"retweet_count\",\"favorite_count\"]]\n",
    "elp.head()\n",
    "elp.to_csv('elp.csv',  encoding='utf-8')"
   ]
  },
  {
   "cell_type": "code",
   "execution_count": 9,
   "metadata": {
    "collapsed": true
   },
   "outputs": [],
   "source": [
    "import pandas as pd\n",
    "gucci1 = pd.read_json(\"gucci1017/gucci10170.json\")\n",
    "gucci2 = pd.read_json(\"gucci1017/gucci10171.json\")\n",
    "gucci3 = pd.read_json(\"gucci1017/gucci10172.json\")\n",
    "gucci4 = pd.read_json(\"gucci1017/gucci10173.json\")\n",
    "gucci5 = pd.read_json(\"gucci1017/gucci10174.json\")\n",
    "gucci6 = pd.read_json(\"gucci1017/gucci10175.json\")\n",
    "gucci7 = pd.read_json(\"gucci1017/gucci10176.json\")\n",
    "gucci8 = pd.read_json(\"gucci1017/gucci10177.json\")\n",
    "gucci9 = pd.read_json(\"gucci1017/gucci10178.json\")\n",
    "gucci10 = pd.read_json(\"gucci1017/gucci10179.json\")\n",
    "gucci = pd.concat([gucci1,gucci2,gucci3,gucci4,gucci5,gucci6,gucci7,gucci8,gucci9,gucci10])\n",
    "gucci = gucci[[\"retweet_count\",\"favorite_count\"]]\n",
    "gucci.head()\n",
    "gucci.to_csv('gucci.csv',  encoding='utf-8')"
   ]
  },
  {
   "cell_type": "code",
   "execution_count": 10,
   "metadata": {
    "collapsed": true
   },
   "outputs": [],
   "source": [
    "import pandas as pd\n",
    "kdot1 = pd.read_json(\"kendricklamar/kendricklamar0.json\")\n",
    "kdot2 = pd.read_json(\"kendricklamar/kendricklamar1.json\")\n",
    "kdot3 = pd.read_json(\"kendricklamar/kendricklamar2.json\")\n",
    "kdot4 = pd.read_json(\"kendricklamar/kendricklamar3.json\")\n",
    "kdot5 = pd.read_json(\"kendricklamar/kendricklamar4.json\")\n",
    "kdot6 = pd.read_json(\"kendricklamar/kendricklamar5.json\")\n",
    "kdot7 = pd.read_json(\"kendricklamar/kendricklamar6.json\")\n",
    "kdot8 = pd.read_json(\"kendricklamar/kendricklamar7.json\")\n",
    "kdot9 = pd.read_json(\"kendricklamar/kendricklamar8.json\")\n",
    "kdot10 = pd.read_json(\"kendricklamar/kendricklamar9.json\")\n",
    "kdot = pd.concat([kdot1,kdot2,kdot3,kdot4,kdot5,kdot6,kdot7,kdot8,kdot9,kdot10])\n",
    "kdot = kdot[[\"retweet_count\",\"favorite_count\"]]\n",
    "kdot.head()\n",
    "kdot.to_csv('kendrick.csv', encoding='utf-8')"
   ]
  },
  {
   "cell_type": "code",
   "execution_count": 11,
   "metadata": {
    "collapsed": true
   },
   "outputs": [],
   "source": [
    "import pandas as pd\n",
    "lgaga1 = pd.read_json(\"ladygaga/ladygaga0.json\")\n",
    "lgaga2 = pd.read_json(\"ladygaga/ladygaga1.json\")\n",
    "lgaga3 = pd.read_json(\"ladygaga/ladygaga2.json\")\n",
    "lgaga4 = pd.read_json(\"ladygaga/ladygaga3.json\")\n",
    "lgaga5 = pd.read_json(\"ladygaga/ladygaga4.json\")\n",
    "lgaga6 = pd.read_json(\"ladygaga/ladygaga5.json\")\n",
    "lgaga7 = pd.read_json(\"ladygaga/ladygaga6.json\")\n",
    "lgaga8 = pd.read_json(\"ladygaga/ladygaga7.json\")\n",
    "lgaga9 = pd.read_json(\"ladygaga/ladygaga8.json\")\n",
    "lgaga10 = pd.read_json(\"ladygaga/ladygaga9.json\")\n",
    "lgaga = pd.concat([lgaga1,lgaga2,lgaga3,lgaga4,lgaga5,lgaga6,lgaga7,lgaga8,lgaga9,lgaga10])\n",
    "lgaga = lgaga[[\"retweet_count\",\"favorite_count\"]]\n",
    "lgaga.head()\n",
    "lgaga.to_csv('ladygaga.csv', encoding='utf-8')"
   ]
  },
  {
   "cell_type": "code",
   "execution_count": 12,
   "metadata": {
    "collapsed": true
   },
   "outputs": [],
   "source": [
    "import pandas as pd\n",
    "lilwayne1 = pd.read_json(\"LilTunechi/LilTunechi0.json\")\n",
    "lilwayne2 = pd.read_json(\"LilTunechi/LilTunechi1.json\")\n",
    "lilwayne3 = pd.read_json(\"LilTunechi/LilTunechi2.json\")\n",
    "lilwayne4 = pd.read_json(\"LilTunechi/LilTunechi3.json\")\n",
    "lilwayne5 = pd.read_json(\"LilTunechi/LilTunechi4.json\")\n",
    "lilwayne6 = pd.read_json(\"LilTunechi/LilTunechi5.json\")\n",
    "lilwayne7 = pd.read_json(\"LilTunechi/LilTunechi6.json\")\n",
    "lilwayne8 = pd.read_json(\"LilTunechi/LilTunechi7.json\")\n",
    "lilwayne9 = pd.read_json(\"LilTunechi/LilTunechi8.json\")\n",
    "lilwayne10 = pd.read_json(\"LilTunechi/LilTunechi9.json\")\n",
    "lilwayne = pd.concat([lilwayne1,lilwayne2,lilwayne3,lilwayne4,lilwayne5,lilwayne6,lilwayne7,lilwayne8,lilwayne9,lilwayne10])\n",
    "lilwayne = lilwayne[[\"retweet_count\",\"favorite_count\"]]\n",
    "lilwayne.head()\n",
    "lilwayne.to_csv('lilwayne.csv', encoding='utf-8')"
   ]
  },
  {
   "cell_type": "code",
   "execution_count": 13,
   "metadata": {
    "collapsed": true
   },
   "outputs": [],
   "source": [
    "import pandas as pd\n",
    "meek1 = pd.read_json(\"meekmill/meekmill0.json\")\n",
    "meek2 = pd.read_json(\"meekmill/meekmill1.json\")\n",
    "meek3 = pd.read_json(\"meekmill/meekmill2.json\")\n",
    "meek4 = pd.read_json(\"meekmill/meekmill3.json\")\n",
    "meek5 = pd.read_json(\"meekmill/meekmill4.json\")\n",
    "meek6 = pd.read_json(\"meekmill/meekmill5.json\")\n",
    "meek7 = pd.read_json(\"meekmill/meekmill6.json\")\n",
    "meek8 = pd.read_json(\"meekmill/meekmill7.json\")\n",
    "meek9 = pd.read_json(\"meekmill/meekmill8.json\")\n",
    "meek10 = pd.read_json(\"meekmill/meekmill9.json\")\n",
    "meek = pd.concat([meek1,meek2,meek3,meek4,meek5,meek6,meek7,meek8,meek9,meek10])\n",
    "meek = meek[[\"retweet_count\",\"favorite_count\"]]\n",
    "meek.head()\n",
    "meek.to_csv('meekmill.csv', encoding='utf-8')"
   ]
  },
  {
   "cell_type": "code",
   "execution_count": 14,
   "metadata": {
    "collapsed": true
   },
   "outputs": [],
   "source": [
    "import pandas as pd\n",
    "riffraff1 = pd.read_json(\"JODYHiGHROLLER/JODYHiGHROLLER0.json\")\n",
    "riffraff2 = pd.read_json(\"JODYHiGHROLLER/JODYHiGHROLLER1.json\")\n",
    "riffraff3 = pd.read_json(\"JODYHiGHROLLER/JODYHiGHROLLER2.json\")\n",
    "riffraff4 = pd.read_json(\"JODYHiGHROLLER/JODYHiGHROLLER3.json\")\n",
    "riffraff5 = pd.read_json(\"JODYHiGHROLLER/JODYHiGHROLLER4.json\")\n",
    "riffraff6 = pd.read_json(\"JODYHiGHROLLER/JODYHiGHROLLER5.json\")\n",
    "riffraff7 = pd.read_json(\"JODYHiGHROLLER/JODYHiGHROLLER6.json\")\n",
    "riffraff8 = pd.read_json(\"JODYHiGHROLLER/JODYHiGHROLLER7.json\")\n",
    "riffraff9 = pd.read_json(\"JODYHiGHROLLER/JODYHiGHROLLER8.json\")\n",
    "riffraff10 = pd.read_json(\"JODYHiGHROLLER/JODYHiGHROLLER9.json\")\n",
    "riffraff = pd.concat([riffraff1,riffraff2,riffraff3,riffraff4,riffraff5,riffraff6,riffraff7,riffraff8,riffraff9,riffraff10])\n",
    "riffraff = riffraff[[\"retweet_count\",\"favorite_count\"]]\n",
    "riffraff.head()\n",
    "riffraff.to_csv('riffraff.csv', encoding='utf-8')"
   ]
  },
  {
   "cell_type": "code",
   "execution_count": 15,
   "metadata": {
    "collapsed": true
   },
   "outputs": [],
   "source": [
    "import pandas as pd\n",
    "rihanna1 = pd.read_json(\"rihanna/rihanna0.json\")\n",
    "rihanna2 = pd.read_json(\"rihanna/rihanna1.json\")\n",
    "rihanna3 = pd.read_json(\"rihanna/rihanna2.json\")\n",
    "rihanna4 = pd.read_json(\"rihanna/rihanna3.json\")\n",
    "rihanna5 = pd.read_json(\"rihanna/rihanna4.json\")\n",
    "rihanna6 = pd.read_json(\"rihanna/rihanna5.json\")\n",
    "rihanna7 = pd.read_json(\"rihanna/rihanna6.json\")\n",
    "rihanna8 = pd.read_json(\"rihanna/rihanna7.json\")\n",
    "rihanna9 = pd.read_json(\"rihanna/rihanna8.json\")\n",
    "rihanna10 = pd.read_json(\"rihanna/rihanna9.json\")\n",
    "rihanna = pd.concat([rihanna1,rihanna2,rihanna3,rihanna4,rihanna5,rihanna6,rihanna7,rihanna8,rihanna9,rihanna10])\n",
    "rihanna = rihanna[[\"retweet_count\",\"favorite_count\"]]\n",
    "rihanna.head()\n",
    "rihanna.to_csv('rihanna.csv', encoding='utf-8')"
   ]
  },
  {
   "cell_type": "code",
   "execution_count": 16,
   "metadata": {
    "collapsed": true
   },
   "outputs": [],
   "source": [
    "import pandas as pd\n",
    "SchoolBoiQ1 = pd.read_json(\"SchoolBoyQ/SchoolBoyQ0.json\")\n",
    "SchoolBoiQ2 = pd.read_json(\"SchoolBoyQ/SchoolBoyQ1.json\")\n",
    "SchoolBoiQ3 = pd.read_json(\"SchoolBoyQ/SchoolBoyQ2.json\")\n",
    "SchoolBoiQ4 = pd.read_json(\"SchoolBoyQ/SchoolBoyQ3.json\")\n",
    "SchoolBoiQ5 = pd.read_json(\"SchoolBoyQ/SchoolBoyQ4.json\")\n",
    "SchoolBoiQ6 = pd.read_json(\"SchoolBoyQ/SchoolBoyQ5.json\")\n",
    "SchoolBoiQ7 = pd.read_json(\"SchoolBoyQ/SchoolBoyQ6.json\")\n",
    "SchoolBoiQ8 = pd.read_json(\"SchoolBoyQ/SchoolBoyQ7.json\")\n",
    "SchoolBoiQ9 = pd.read_json(\"SchoolBoyQ/SchoolBoyQ8.json\")\n",
    "SchoolBoiQ10 = pd.read_json(\"SchoolBoyQ/SchoolBoyQ9.json\")\n",
    "SchoolBoiQ = pd.concat([SchoolBoiQ1,SchoolBoiQ2,SchoolBoiQ3,SchoolBoiQ4,SchoolBoiQ5,SchoolBoiQ6,SchoolBoiQ7,SchoolBoiQ8,SchoolBoiQ9,SchoolBoiQ10])\n",
    "SchoolBoiQ = SchoolBoiQ[[\"retweet_count\",\"favorite_count\"]]\n",
    "SchoolBoiQ.head()\n",
    "SchoolBoiQ.to_csv('schoolboy.csv', encoding='utf-8')"
   ]
  },
  {
   "cell_type": "code",
   "execution_count": 17,
   "metadata": {
    "collapsed": true
   },
   "outputs": [],
   "source": [
    "import pandas as pd\n",
    "skingston1 = pd.read_json(\"seankingston/seankingston0.json\")\n",
    "skingston2 = pd.read_json(\"seankingston/seankingston1.json\")\n",
    "skingston3 = pd.read_json(\"seankingston/seankingston2.json\")\n",
    "skingston4 = pd.read_json(\"seankingston/seankingston3.json\")\n",
    "skingston5 = pd.read_json(\"seankingston/seankingston4.json\")\n",
    "skingston6 = pd.read_json(\"seankingston/seankingston5.json\")\n",
    "skingston7 = pd.read_json(\"seankingston/seankingston6.json\")\n",
    "skingston8 = pd.read_json(\"seankingston/seankingston7.json\")\n",
    "skingston9 = pd.read_json(\"seankingston/seankingston8.json\")\n",
    "#skingston10 = pd.read_json(\"seankingston/seankingston9.json\")\n",
    "skingston = pd.concat([skingston1,skingston2,skingston3,skingston4,skingston5,skingston6,skingston7,skingston8,skingston9])\n",
    "skingston = skingston[[\"retweet_count\",\"favorite_count\"]]\n",
    "skingston.head()\n",
    "skingston.to_csv('seankingston.csv',encoding='utf-8')"
   ]
  },
  {
   "cell_type": "code",
   "execution_count": 18,
   "metadata": {
    "collapsed": true
   },
   "outputs": [],
   "source": [
    "import pandas as pd\n",
    "game1 = pd.read_json(\"thegame/thegame0.json\")\n",
    "game2 = pd.read_json(\"thegame/thegame1.json\")\n",
    "game3 = pd.read_json(\"thegame/thegame2.json\")\n",
    "game4 = pd.read_json(\"thegame/thegame3.json\")\n",
    "game5 = pd.read_json(\"thegame/thegame4.json\")\n",
    "game6 = pd.read_json(\"thegame/thegame5.json\")\n",
    "game7 = pd.read_json(\"thegame/thegame6.json\")\n",
    "game8 = pd.read_json(\"thegame/thegame7.json\")\n",
    "game9 = pd.read_json(\"thegame/thegame8.json\")\n",
    "game10 = pd.read_json(\"thegame/thegame9.json\")\n",
    "game = pd.concat([game1,game2,game3,game4,game5,game6,game7,game8,game9,game10])\n",
    "game = game[[\"retweet_count\",\"favorite_count\"]]\n",
    "game.head()\n",
    "game.to_csv('thegame.csv', encoding='utf-8')"
   ]
  },
  {
   "cell_type": "code",
   "execution_count": 19,
   "metadata": {
    "collapsed": true
   },
   "outputs": [],
   "source": [
    "import pandas as pd\n",
    "thecreator1 = pd.read_json(\"tylerthecreator/tylerthecreator0.json\")\n",
    "thecreator2 = pd.read_json(\"tylerthecreator/tylerthecreator1.json\")\n",
    "thecreator3 = pd.read_json(\"tylerthecreator/tylerthecreator2.json\")\n",
    "thecreator4 = pd.read_json(\"tylerthecreator/tylerthecreator3.json\")\n",
    "thecreator5 = pd.read_json(\"tylerthecreator/tylerthecreator4.json\")\n",
    "thecreator6 = pd.read_json(\"tylerthecreator/tylerthecreator5.json\")\n",
    "thecreator7 = pd.read_json(\"tylerthecreator/tylerthecreator6.json\")\n",
    "thecreator8 = pd.read_json(\"tylerthecreator/tylerthecreator7.json\")\n",
    "thecreator9 = pd.read_json(\"tylerthecreator/tylerthecreator8.json\")\n",
    "thecreator10 = pd.read_json(\"tylerthecreator/tylerthecreator9.json\")\n",
    "thecreator = pd.concat([thecreator1,thecreator2,thecreator3,thecreator4,thecreator5,thecreator6,thecreator7,thecreator8,thecreator9,thecreator10])\n",
    "thecreator = thecreator[[\"retweet_count\",\"favorite_count\"]]\n",
    "thecreator.head()\n",
    "thecreator.to_csv('tylerthecreator.csv', encoding='utf-8')"
   ]
  },
  {
   "cell_type": "code",
   "execution_count": 20,
   "metadata": {
    "collapsed": true
   },
   "outputs": [],
   "source": [
    "import pandas as pd\n",
    "waka1 = pd.read_json(\"WakaFlockaBSM/WakaFlockaBSM0.json\")\n",
    "waka2 = pd.read_json(\"WakaFlockaBSM/WakaFlockaBSM1.json\")\n",
    "waka3 = pd.read_json(\"WakaFlockaBSM/WakaFlockaBSM2.json\")\n",
    "waka4 = pd.read_json(\"WakaFlockaBSM/WakaFlockaBSM3.json\")\n",
    "waka5 = pd.read_json(\"WakaFlockaBSM/WakaFlockaBSM4.json\")\n",
    "waka6 = pd.read_json(\"WakaFlockaBSM/WakaFlockaBSM5.json\")\n",
    "waka7 = pd.read_json(\"WakaFlockaBSM/WakaFlockaBSM6.json\")\n",
    "waka8 = pd.read_json(\"WakaFlockaBSM/WakaFlockaBSM7.json\")\n",
    "waka9 = pd.read_json(\"WakaFlockaBSM/WakaFlockaBSM8.json\")\n",
    "waka10 = pd.read_json(\"WakaFlockaBSM/WakaFlockaBSM9.json\")\n",
    "waka = pd.concat([waka1,waka2,waka3,waka4,waka5,waka6,waka7,waka8,waka9,waka10])\n",
    "waka = waka[[\"retweet_count\",\"favorite_count\"]]\n",
    "waka.head()\n",
    "waka.to_csv('wakaflocka.csv',encoding='utf-8')"
   ]
  },
  {
   "cell_type": "code",
   "execution_count": 21,
   "metadata": {
    "collapsed": true
   },
   "outputs": [],
   "source": [
    "import pandas as pd\n",
    "wiz1 = pd.read_json(\"wizkhalifa/wizkhalifa0.json\")\n",
    "wiz2 = pd.read_json(\"wizkhalifa/wizkhalifa1.json\")\n",
    "wiz3 = pd.read_json(\"wizkhalifa/wizkhalifa2.json\")\n",
    "wiz4 = pd.read_json(\"wizkhalifa/wizkhalifa3.json\")\n",
    "wiz5 = pd.read_json(\"wizkhalifa/wizkhalifa4.json\")\n",
    "wiz6 = pd.read_json(\"wizkhalifa/wizkhalifa5.json\")\n",
    "wiz7 = pd.read_json(\"wizkhalifa/wizkhalifa6.json\")\n",
    "wiz8 = pd.read_json(\"wizkhalifa/wizkhalifa7.json\")\n",
    "wiz9 = pd.read_json(\"wizkhalifa/wizkhalifa8.json\")\n",
    "wiz10 = pd.read_json(\"wizkhalifa/wizkhalifa9.json\")\n",
    "wiz = pd.concat([wiz1,wiz2,wiz3,wiz4,wiz5,wiz6,wiz7,wiz8,wiz9,wiz10])\n",
    "wiz = wiz[[\"retweet_count\",\"favorite_count\"]]\n",
    "wiz.head()\n",
    "wiz.to_csv('wiz.csv',encoding='utf-8')"
   ]
  },
  {
   "cell_type": "code",
   "execution_count": null,
   "metadata": {
    "collapsed": true
   },
   "outputs": [],
   "source": []
  }
 ],
 "metadata": {
  "kernelspec": {
   "display_name": "Python 3",
   "language": "python",
   "name": "python3"
  },
  "language_info": {
   "codemirror_mode": {
    "name": "ipython",
    "version": 3
   },
   "file_extension": ".py",
   "mimetype": "text/x-python",
   "name": "python",
   "nbconvert_exporter": "python",
   "pygments_lexer": "ipython3",
   "version": "3.6.3"
  }
 },
 "nbformat": 4,
 "nbformat_minor": 2
}
